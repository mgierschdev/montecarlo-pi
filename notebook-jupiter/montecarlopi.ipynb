{
 "cells": [
  {
   "cell_type": "code",
   "execution_count": 1,
   "metadata": {},
   "outputs": [
    {
     "name": "stdout",
     "output_type": "stream",
     "text": [
      "   iteration   pi\n",
      "0          0  1.0\n",
      "1          1  1.0\n",
      "2          2  1.0\n",
      "3          3  1.0\n",
      "4          4  2.0\n",
      "5          5  3.0\n",
      "6          6  3.0\n",
      "7          7  3.0\n",
      "8          8  3.0\n",
      "9          9  3.0\n"
     ]
    },
    {
     "data": {
      "image/png": "[encoded data removed]",
      "text/plain": [
       "<Figure size 432x288 with 1 Axes>"
      ]
     },
     "metadata": {
      "needs_background": "light"
     },
     "output_type": "display_data"
    }
   ],
   "source": [
    "import os.path\n",
    "import subprocess\n",
    "import pandas as pd\n",
    "import matplotlib.pyplot as plt\n",
    "import numpy as np\n",
    "\n",
    "#choose your own path to save the data to\n",
    "user_path=os.path.expanduser('~')\n",
    "data_path = user_path+'/ml_data/montecarlo-pi/pi.csv'\n",
    "X = pd.read_csv(data_path)\n",
    "\n",
    "print(X.head(10))\n",
    "\n",
    "fig, ax = plt.subplots()\n",
    "ax.plot(X.iteration, X.pi)\n",
    "\n",
    "ax.set(xlabel='Iteration', ylabel='PI',\n",
    "       title='About as simple as it gets, folks')\n",
    "ax.grid()\n",
    "\n",
    "fig.savefig(\"pi.png\")\n",
    "plt.show()"
   ]
  },
  {
   "cell_type": "code",
   "execution_count": null,
   "metadata": {},
   "outputs": [],
   "source": []
  }
 ],
 "metadata": {
  "kernelspec": {
   "display_name": "Python 3",
   "language": "python",
   "name": "python3"
  },
  "language_info": {
   "codemirror_mode": {
    "name": "ipython",
    "version": 3
   },
   "file_extension": ".py",
   "mimetype": "text/x-python",
   "name": "python",
   "nbconvert_exporter": "python",
   "pygments_lexer": "ipython3",
   "version": "3.8.5"
  }
 },
 "nbformat": 4,
 "nbformat_minor": 4
}
